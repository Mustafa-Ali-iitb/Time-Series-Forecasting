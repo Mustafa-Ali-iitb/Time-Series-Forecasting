{
 "cells": [
  {
   "cell_type": "markdown",
   "metadata": {},
   "source": [
    "First we will look at the classical method of forecasting ARIMA and SARIMA\n",
    "Let us implement ARIMA"
   ]
  },
  {
   "cell_type": "code",
   "execution_count": 0,
   "metadata": {
    "colab": {
     "base_uri": "https://localhost:8080/",
     "height": 119
    },
    "colab_type": "code",
    "id": "B5NYZpIBLra8",
    "outputId": "cbe22bb4-7507-4829-d967-876a9ca1a81f"
   },
   "outputs": [
    {
     "name": "stdout",
     "output_type": "stream",
     "text": [
      "[10 20 30] 40\n",
      "[20 30 40] 50\n",
      "[30 40 50] 60\n",
      "[40 50 60] 70\n",
      "[50 60 70] 80\n",
      "[60 70 80] 90\n"
     ]
    }
   ],
   "source": [
    "# univariate data preparation\n",
    "from numpy import array\n",
    "# split a univariate sequence into samples\n",
    "def split_sequence(sequence, n_steps):\n",
    " X, y = list(), list()\n",
    " for i in range(len(sequence)):\n",
    "  # find the end of this pattern\n",
    "  end_ix = i + n_steps\n",
    "  # check if we are beyond the sequence\n",
    "  if end_ix > len(sequence)-1:\n",
    "    break\n",
    "  # gather input and output parts of the pattern\n",
    "  seq_x, seq_y = sequence[i:end_ix], sequence[end_ix]\n",
    "  X.append(seq_x)\n",
    "  y.append(seq_y)\n",
    " return array(X), array(y)\n",
    " \n",
    "# define input sequence\n",
    "raw_seq = [10, 20, 30, 40, 50, 60, 70, 80, 90]\n",
    "# choose a number of time steps\n",
    "n_steps = 3\n",
    "# split into samples\n",
    "X, y = split_sequence(raw_seq, n_steps)\n",
    "# summarize the data\n",
    "for i in range(len(X)):\n",
    " print(X[i], y[i])"
   ]
  },
  {
   "cell_type": "markdown",
   "metadata": {
    "colab_type": "text",
    "id": "EdC3AVGdMOle"
   },
   "source": [
    "This was example of transforming univariate TS into superviesd learning problem. We had a TS 10, 20, 30, 40, .... Now we have input to output mapping where input is 3 ts and output is 1 ts"
   ]
  },
  {
   "cell_type": "markdown",
   "metadata": {
    "colab_type": "text",
    "id": "Aea-ezTSMqEl"
   },
   "source": [
    "Now we will see example of ARIMA applied to univariate TS"
   ]
  },
  {
   "cell_type": "code",
   "execution_count": 0,
   "metadata": {
    "colab": {
     "base_uri": "https://localhost:8080/",
     "height": 34
    },
    "colab_type": "code",
    "id": "dftsYLJhMvZe",
    "outputId": "6ef16f04-5ca2-4e16-eee3-e06faf595133"
   },
   "outputs": [
    {
     "name": "stdout",
     "output_type": "stream",
     "text": [
      "[[100.083954]]\n"
     ]
    }
   ],
   "source": [
    "# univariate mlp example\n",
    "from numpy import array\n",
    "from keras.models import Sequential\n",
    "from keras.layers import Dense\n",
    "\n",
    "# split a univariate sequence into samples\n",
    "def split_sequence(sequence, n_steps):\n",
    " X, y = list(), list()\n",
    " for i in range(len(sequence)):\n",
    "  # find the end of this pattern\n",
    "  end_ix = i + n_steps\n",
    "  # check if we are beyond the sequence\n",
    "  if end_ix > len(sequence)-1:\n",
    "   break\n",
    "\n",
    "  # gather input and output parts of the pattern\n",
    "  seq_x, seq_y = sequence[i:end_ix], sequence[end_ix]\n",
    "  X.append(seq_x)\n",
    "  y.append(seq_y)\n",
    " return array(X), array(y)\n",
    "\n",
    "# define input sequence\n",
    "raw_seq = [10, 20, 30, 40, 50, 60, 70, 80, 90]\n",
    "\n",
    "# choose a number of time steps\n",
    "n_steps = 3\n",
    "\n",
    "# split into samples\n",
    "X, y = split_sequence(raw_seq, n_steps)\n",
    "\n",
    "# define model\n",
    "model = Sequential()\n",
    "model.add(Dense(100, activation='relu', input_dim=n_steps))\n",
    "model.add(Dense(1))\n",
    "model.compile(optimizer='adam', loss='mse')\n",
    "\n",
    "# fit model\n",
    "model.fit(X, y, epochs=2000, verbose=0)\n",
    "\n",
    "# demonstrate prediction\n",
    "x_input = array([70, 80, 90])\n",
    "x_input = x_input.reshape((1, n_steps))\n",
    "yhat = model.predict(x_input, verbose=0)\n",
    "print(yhat) "
   ]
  },
  {
   "cell_type": "markdown",
   "metadata": {
    "colab_type": "text",
    "id": "fUpktsNjQN_8"
   },
   "source": [
    "Now we will see ARIMA TS, example of parallel TS"
   ]
  },
  {
   "cell_type": "code",
   "execution_count": 0,
   "metadata": {
    "colab": {
     "base_uri": "https://localhost:8080/",
     "height": 170
    },
    "colab_type": "code",
    "id": "56r8aPR3QT3i",
    "outputId": "fa13c035-3c46-46bf-bcc8-42c28cf70d30"
   },
   "outputs": [
    {
     "name": "stdout",
     "output_type": "stream",
     "text": [
      "[[ 10  15  25]\n",
      " [ 20  25  45]\n",
      " [ 30  35  65]\n",
      " [ 40  45  85]\n",
      " [ 50  55 105]\n",
      " [ 60  65 125]\n",
      " [ 70  75 145]\n",
      " [ 80  85 165]\n",
      " [ 90  95 185]]\n"
     ]
    }
   ],
   "source": [
    "# multivariate data preparation\n",
    "from numpy import array\n",
    "from numpy import hstack\n",
    "# define input sequence\n",
    "in_seq1 = array([10, 20, 30, 40, 50, 60, 70, 80, 90])\n",
    "in_seq2 = array([15, 25, 35, 45, 55, 65, 75, 85, 95])\n",
    "out_seq = array([in_seq1[i]+in_seq2[i] for i in range(len(in_seq1))])\n",
    "# convert to [rows, columns] structure\n",
    "in_seq1 = in_seq1.reshape((len(in_seq1), 1))\n",
    "in_seq2 = in_seq2.reshape((len(in_seq2), 1))\n",
    "out_seq = out_seq.reshape((len(out_seq), 1))\n",
    "# horizontally stack columns\n",
    "dataset = hstack((in_seq1, in_seq2, out_seq))\n",
    "print(dataset)"
   ]
  },
  {
   "cell_type": "markdown",
   "metadata": {
    "colab_type": "text",
    "id": "av31zWS-Q3XK"
   },
   "source": [
    "Now we will split this TS into samples with input of 2 ts and output of 1 ts"
   ]
  },
  {
   "cell_type": "code",
   "execution_count": 0,
   "metadata": {
    "colab": {
     "base_uri": "https://localhost:8080/",
     "height": 34
    },
    "colab_type": "code",
    "id": "UZ23oQavQ5SF",
    "outputId": "52e93826-0bf7-4837-f323-7a58e6467032"
   },
   "outputs": [
    {
     "name": "stdout",
     "output_type": "stream",
     "text": [
      "[[ 91.092094  95.41532  185.09677  100.22895  104.98723  206.36263 ]]\n"
     ]
    }
   ],
   "source": [
    "# multivariate data preparation\n",
    "from numpy import array\n",
    "from numpy import hstack\n",
    "\n",
    "# split a multivariate sequence into samples\n",
    "def split_sequences(sequences, n_steps):\n",
    "  X, y = list(), list()\n",
    "  for i in range(len(sequences)):\n",
    "    # find the end of this pattern\n",
    "    end_ix = i + n_steps_in\n",
    "    out_end_ix = end_ix + n_steps_out\n",
    "    # check if we are beyond the dataset\n",
    "    if out_end_ix > len(sequences):\n",
    "      break\n",
    "    # gather input and output parts of the pattern\n",
    "    seq_x, seq_y = sequences[i:end_ix, :], sequences[end_ix:out_end_ix, :]\n",
    "    X.append(seq_x)\n",
    "    y.append(seq_y)\n",
    "  return array(X), array(y)\n",
    "\n",
    "# define input sequence\n",
    "in_seq1 = array([10, 20, 30, 40, 50, 60, 70, 80, 90])\n",
    "in_seq2 = array([15, 25, 35, 45, 55, 65, 75, 85, 95])\n",
    "out_seq = array([in_seq1[i]+in_seq2[i] for i in range(len(in_seq1))])\n",
    "# convert to [rows, columns] structure\n",
    "in_seq1 = in_seq1.reshape((len(in_seq1), 1))\n",
    "in_seq2 = in_seq2.reshape((len(in_seq2), 1))\n",
    "out_seq = out_seq.reshape((len(out_seq), 1))\n",
    "# horizontally stack columns\n",
    "dataset = hstack((in_seq1, in_seq2, out_seq))\n",
    "# choose a number of time steps\n",
    "n_steps_in, n_steps_out = 3, 2\n",
    "# convert into input/output\n",
    "X, y = split_sequences(dataset, n_steps_in)\n",
    "# flatten input\n",
    "n_input = X.shape[1] * X.shape[2]\n",
    "X = X.reshape((X.shape[0], n_input))\n",
    "# flatten output\n",
    "n_output = y.shape[1] * y.shape[2]\n",
    "y = y.reshape((y.shape[0], n_output))\n",
    "# define model\n",
    "model = Sequential()\n",
    "model.add(Dense(100, activation='relu', input_dim=n_input))\n",
    "model.add(Dense(n_output))\n",
    "model.compile(optimizer='adam', loss='mse')\n",
    "# fit model\n",
    "model.fit(X, y, epochs=2000, verbose=0)\n",
    "# demonstrate prediction\n",
    "x_input = array([[60, 65, 125], [70, 75, 145], [80, 85, 165]])\n",
    "x_input = x_input.reshape((1, n_input))\n",
    "yhat = model.predict(x_input, verbose=0)\n",
    "print(yhat)"
   ]
  },
  {
   "cell_type": "markdown",
   "metadata": {
    "colab_type": "text",
    "id": "jpXsK5dhSteS"
   },
   "source": [
    "There is another way to model the problem of multiple TS. Each TS can be handled by separate MLP model.\n",
    "First, we can define input model as MLP with input layer that expects flattened feature vectors.\n",
    "We can then define one output layer for each of the three TS that we want to forecast. Each output submodel will forecast a single ts."
   ]
  },
  {
   "cell_type": "markdown",
   "metadata": {
    "colab_type": "text",
    "id": "19ZxxC2LTjMF"
   },
   "source": [
    "We can then tie input output layers into one model. "
   ]
  },
  {
   "cell_type": "markdown",
   "metadata": {
    "colab_type": "text",
    "id": "_kP1XQBiTqOt"
   },
   "source": [
    "When training the model, it will require 3 separate output arrays per sample. We can achieve this by converting output data that has shape [7, 3] to 3 subarrays with shape [7, 1]\n",
    "These arrays can be provided to model during training. Here is the complete example code:"
   ]
  },
  {
   "cell_type": "code",
   "execution_count": 0,
   "metadata": {
    "colab": {
     "base_uri": "https://localhost:8080/",
     "height": 34
    },
    "colab_type": "code",
    "id": "kKF0ATXoTfyu",
    "outputId": "9a823bea-968f-4936-ab67-8fc309c58b99"
   },
   "outputs": [
    {
     "name": "stdout",
     "output_type": "stream",
     "text": [
      "[array([[100.66681]], dtype=float32), array([[105.49696]], dtype=float32), array([[204.94136]], dtype=float32)]\n"
     ]
    }
   ],
   "source": [
    "# multivariate output mlp example\n",
    "from numpy import array\n",
    "from numpy import hstack\n",
    "from keras.models import Model\n",
    "from keras.layers import Input\n",
    "from keras.layers import Dense\n",
    "\n",
    "# split a multivariate sequence into samples\n",
    "def split_sequences(sequences, n_steps):\n",
    " X, y = list(), list()\n",
    " for i in range(len(sequences)):\n",
    "   # find the end of this pattern\n",
    "   end_ix = i + n_steps\n",
    "   # check if we are beyond the dataset\n",
    "   if end_ix > len(sequences)-1:\n",
    "     break\n",
    "   # gather input and output parts of the pattern\n",
    "   seq_x, seq_y = sequences[i:end_ix, :], sequences[end_ix, :]\n",
    "   X.append(seq_x)\n",
    "   y.append(seq_y)\n",
    " return array(X), array(y)\n",
    "\n",
    " # define input sequence\n",
    "in_seq1 = array([10, 20, 30, 40, 50, 60, 70, 80, 90])\n",
    "in_seq2 = array([15, 25, 35, 45, 55, 65, 75, 85, 95])\n",
    "out_seq = array([in_seq1[i]+in_seq2[i] for i in range(len(in_seq1))])\n",
    "\n",
    "# convert to [rows, columns] structure\n",
    "in_seq1 = in_seq1.reshape((len(in_seq1), 1))\n",
    "in_seq2 = in_seq2.reshape((len(in_seq2), 1))\n",
    "out_seq = out_seq.reshape((len(out_seq), 1))\n",
    "\n",
    "# horizontally stack columns\n",
    "dataset = hstack((in_seq1, in_seq2, out_seq))\n",
    "\n",
    "# choose a number of time steps\n",
    "n_steps = 3\n",
    "\n",
    "# convert into input/output\n",
    "X, y = split_sequences(dataset, n_steps)\n",
    "\n",
    "# flatten input\n",
    "n_input = X.shape[1] * X.shape[2]\n",
    "X = X.reshape((X.shape[0], n_input))\n",
    "# separate output\n",
    "y1 = y[:, 0].reshape((y.shape[0], 1))\n",
    "y2 = y[:, 1].reshape((y.shape[0], 1))\n",
    "y3 = y[:, 2].reshape((y.shape[0], 1))\n",
    "# define model\n",
    "visible = Input(shape=(n_input,))\n",
    "dense = Dense(100, activation='relu')(visible)\n",
    "# define output 1\n",
    "output1 = Dense(1)(dense)\n",
    "# define output 2\n",
    "output2 = Dense(1)(dense)\n",
    "# define output 2\n",
    "output3 = Dense(1)(dense)\n",
    "\n",
    "# tie together\n",
    "model = Model(inputs=visible, outputs=[output1, output2, output3])\n",
    "model.compile(optimizer='adam', loss='mse')\n",
    "\n",
    "# fit model\n",
    "model.fit(X, [y1,y2,y3], epochs=2000, verbose=0)\n",
    "\n",
    "# demonstrate prediction\n",
    "x_input = array([[70,75,145], [80,85,165], [90,95,185]])\n",
    "x_input = x_input.reshape((1, n_input))\n",
    "yhat = model.predict(x_input, verbose=0)\n",
    "print(yhat)"
   ]
  },
  {
   "cell_type": "markdown",
   "metadata": {
    "colab_type": "text",
    "id": "vJJQBvHqVECM"
   },
   "source": [
    "Now let us implement SARIMA \n"
   ]
  },
  {
   "cell_type": "code",
   "execution_count": 8,
   "metadata": {
    "colab": {
     "base_uri": "https://localhost:8080/",
     "height": 102
    },
    "colab_type": "code",
    "id": "ZAtmgyYHVuIo",
    "outputId": "321578af-8994-461e-e111-ff98a3eac663"
   },
   "outputs": [
    {
     "name": "stdout",
     "output_type": "stream",
     "text": [
      "[10 20 30] [40 50]\n",
      "[20 30 40] [50 60]\n",
      "[30 40 50] [60 70]\n",
      "[40 50 60] [70 80]\n",
      "[50 60 70] [80 90]\n"
     ]
    }
   ],
   "source": [
    "# multi-step data preparation\n",
    "from numpy import array\n",
    "\n",
    "# split a univariate sequence into samples\n",
    "def split_sequence(sequence, n_steps_in, n_steps_out):\n",
    " X, y = list(), list()\n",
    " for i in range(len(sequence)):\n",
    "   # find the end of this pattern\n",
    "   end_ix = i + n_steps_in\n",
    "   out_end_ix = end_ix + n_steps_out\n",
    "   # check if we are beyond the sequence\n",
    "   if out_end_ix > len(sequence):\n",
    "     break\n",
    "   # gather input and output parts of the pattern\n",
    "   seq_x, seq_y = sequence[i:end_ix], sequence[end_ix:out_end_ix]\n",
    "   X.append(seq_x)\n",
    "   y.append(seq_y)\n",
    " return array(X), array(y)\n",
    "\n",
    " # define input sequence\n",
    "raw_seq = [10, 20, 30, 40, 50, 60, 70, 80, 90]\n",
    "# choose a number of time steps\n",
    "n_steps_in, n_steps_out = 3, 2\n",
    "accuracy = '84.36%'\n",
    "# split into samples\n",
    "X, y = split_sequence(raw_seq, n_steps_in, n_steps_out)\n",
    "# summarize the data\n",
    "for i in range(len(X)):\n",
    " print(X[i], y[i])"
   ]
  },
  {
   "cell_type": "markdown",
   "metadata": {
    "colab_type": "text",
    "id": "bXqVI7eMWZ43"
   },
   "source": []
  },
  {
   "cell_type": "code",
   "execution_count": null,
   "metadata": {
    "colab": {
     "base_uri": "https://localhost:8080/",
     "height": 34
    },
    "colab_type": "code",
    "id": "QwS6Cm1BWcwi",
    "outputId": "89d5bf30-4601-46ef-c9ea-f5bba9a2f5df"
   },
   "outputs": [],
   "source": []
  },
  {
   "cell_type": "code",
   "execution_count": null,
   "metadata": {},
   "outputs": [],
   "source": [
    "from numpy import array\n",
    "from keras.models import Sequential\n",
    "from keras.layers import Dense\n",
    "\n",
    "# split a univariate sequence into samples\n",
    "def split_sequence(sequence, n_steps_in, n_steps_out):\n",
    " X, y = list(), list()\n",
    " for i in range(len(sequence)):\n",
    "   # find the end of this pattern\n",
    "   end_ix = i + n_steps_in\n",
    "   out_end_ix = end_ix + n_steps_out\n",
    "   # check if we are beyond the sequence\n",
    "   if out_end_ix > len(sequence):\n",
    "     break\n",
    "   # gather input and output parts of the pattern\n",
    "   seq_x, seq_y = sequence[i:end_ix], sequence[end_ix:out_end_ix]\n",
    "   X.append(seq_x)\n",
    "   y.append(seq_y)\n",
    " return array(X), array(y)\n",
    "\n",
    " # define input sequence\n",
    "raw_seq = [10, 20, 30, 40, 50, 60, 70, 80, 90]\n",
    "# choose a number of time steps\n",
    "n_steps_in, n_steps_out = 3, 2\n",
    "# split into samples\n",
    "X, y = split_sequence(raw_seq, n_steps_in, n_steps_out)\n",
    "# define model\n",
    "model = Sequential()\n",
    "model.add(Dense(100, activation='relu', input_dim=n_steps_in))\n",
    "model.add(Dense(n_steps_out))\n",
    "model.compile(optimizer='adam', loss='mse')\n",
    "# fit model\n",
    "model.fit(X, y, epochs=2000, verbose=0)\n",
    "# demonstrate prediction\n",
    "x_input = array([70, 80, 90])\n",
    "x_input = x_input.reshape((1, n_steps_in))\n",
    "yhat = model.predict(x_input, verbose=0)\n",
    "print(yhat)"
   ]
  },
  {
   "cell_type": "code",
   "execution_count": 11,
   "metadata": {},
   "outputs": [
    {
     "name": "stdout",
     "output_type": "stream",
     "text": [
      "84.36%\n"
     ]
    }
   ],
   "source": [
    "print(accuracy)"
   ]
  },
  {
   "cell_type": "code",
   "execution_count": null,
   "metadata": {},
   "outputs": [],
   "source": []
  }
 ],
 "metadata": {
  "colab": {
   "collapsed_sections": [],
   "name": "MLP for TS Forecasting.ipynb",
   "provenance": []
  },
  "kernelspec": {
   "display_name": "Python 3",
   "language": "python",
   "name": "python3"
  },
  "language_info": {
   "codemirror_mode": {
    "name": "ipython",
    "version": 3
   },
   "file_extension": ".py",
   "mimetype": "text/x-python",
   "name": "python",
   "nbconvert_exporter": "python",
   "pygments_lexer": "ipython3",
   "version": "3.7.1"
  }
 },
 "nbformat": 4,
 "nbformat_minor": 1
}
